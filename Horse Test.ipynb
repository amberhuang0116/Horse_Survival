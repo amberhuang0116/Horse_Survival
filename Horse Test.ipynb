{
 "cells": [
  {
   "cell_type": "code",
   "execution_count": 1,
   "id": "d63c4737",
   "metadata": {},
   "outputs": [],
   "source": [
    "import numpy as np \n",
    "import pandas as pd"
   ]
  },
  {
   "cell_type": "code",
   "execution_count": 2,
   "id": "ab5048ac",
   "metadata": {},
   "outputs": [],
   "source": [
    "data = pd.read_csv('horse.csv')"
   ]
  },
  {
   "cell_type": "code",
   "execution_count": 3,
   "id": "acaacccb",
   "metadata": {},
   "outputs": [],
   "source": [
    "lesion = []"
   ]
  },
  {
   "cell_type": "code",
   "execution_count": 4,
   "id": "2e550906",
   "metadata": {},
   "outputs": [],
   "source": [
    "for x in range(len(data.lesion_site)):\n",
    "    if data.lesion_site[x] > 0:\n",
    "        lesion.append(1)\n",
    "    else:\n",
    "        lesion.append(0)"
   ]
  },
  {
   "cell_type": "code",
   "execution_count": 5,
   "id": "1f7dc39f",
   "metadata": {},
   "outputs": [],
   "source": [
    "lesion_site = []\n",
    "lesion_type = []\n",
    "lesion_subtype = []\n",
    "lesion_code = []"
   ]
  },
  {
   "cell_type": "code",
   "execution_count": 6,
   "id": "35acd5a1",
   "metadata": {},
   "outputs": [],
   "source": [
    "import math"
   ]
  },
  {
   "cell_type": "code",
   "execution_count": 7,
   "id": "977378a4",
   "metadata": {},
   "outputs": [],
   "source": [
    "def first_n_digits(num, n):\n",
    "    return num // 10 ** (int(math.log(num, 10)) - n + 1)"
   ]
  },
  {
   "cell_type": "code",
   "execution_count": 8,
   "id": "8360fd49",
   "metadata": {},
   "outputs": [
    {
     "data": {
      "text/plain": [
       "9"
      ]
     },
     "execution_count": 8,
     "metadata": {},
     "output_type": "execute_result"
    }
   ],
   "source": [
    "first_n_digits(38907, 3)%10"
   ]
  },
  {
   "cell_type": "code",
   "execution_count": 9,
   "id": "31b7e623",
   "metadata": {},
   "outputs": [],
   "source": [
    "for x in range(len(data.lesion_site)):\n",
    "    lesion_sites = data.lesion_site[x]\n",
    "    if lesion_sites == 0:\n",
    "        lesion_site.append(0)\n",
    "        lesion_type.append(0)\n",
    "        lesion_subtype.append(0)\n",
    "        lesion_code.append(0)\n",
    "    else:\n",
    "        if lesion_sites > 9999:\n",
    "            if first_n_digits(lesion_sites,2) == 11:\n",
    "                lesion_site.append(11)\n",
    "                lesion_type.append(first_n_digits(lesion_sites,3)%10)\n",
    "                lesion_subtype.append(first_n_digits(lesion_sites,4)%10)\n",
    "                lesion_code.append(first_n_digits(lesion_sites,5)%10)\n",
    "            if first_n_digits(lesion_sites,5)%100 == 10:\n",
    "                lesion_site.append(first_n_digits(lesion_sites,1))\n",
    "                lesion_type.append(first_n_digits(lesion_sites,2)%10)\n",
    "                lesion_subtype.append(first_n_digits(lesion_sites,3)%10)\n",
    "                lesion_code.append(10)\n",
    "        else:\n",
    "            lesion_site.append(first_n_digits(lesion_sites,1))\n",
    "            lesion_type.append(first_n_digits(lesion_sites,2)%10)\n",
    "            lesion_subtype.append(first_n_digits(lesion_sites,3)%10)\n",
    "            lesion_code.append(first_n_digits(lesion_sites,4)%10)"
   ]
  },
  {
   "cell_type": "code",
   "execution_count": null,
   "id": "80142233",
   "metadata": {},
   "outputs": [],
   "source": [
    "#for x in range(len(data.lesion_site)):\n",
    "    lesion_sites = data.lesion_site[x]\n",
    "    if lesion_sites == 0:\n",
    "        lesion_site.append(0)\n",
    "        lesion_type.append(0)\n",
    "        lesion_subtype.append(0)\n",
    "        lesion_code.append(0)\n",
    "    else:\n",
    "        if first_n_digits(lesion_sites,2) == 11:\n",
    "            lesion_site.append(11)\n",
    "            lesion_type.append(first_n_digits(lesion_sites,3)%10)\n",
    "            lesion_subtype.append(first_n_digits(lesion_sites,4)%10)\n",
    "            if lesion_sites > 99999:\n",
    "                lesion_code.append(10)\n",
    "            else:\n",
    "                lesion_code.append(first_n_digits(lesion_sites,5)%10)\n",
    "        else:\n",
    "            lesion_site.append(first_n_digits(lesion_sites,1))\n",
    "            lesion_type.append(first_n_digits(lesion_sites,2)%10)\n",
    "            lesion_subtype.append(first_n_digits(lesion_sites,3)%10)\n",
    "            if lesion_sites > 9999:\n",
    "                lesion_code.append(10)\n",
    "            else:\n",
    "                lesion_code.append(first_n_digits(lesion_sites,4)%10)"
   ]
  },
  {
   "cell_type": "code",
   "execution_count": 10,
   "id": "aac8e08c",
   "metadata": {},
   "outputs": [
    {
     "name": "stdout",
     "output_type": "stream",
     "text": [
      "<class 'pandas.core.frame.DataFrame'>\n",
      "RangeIndex: 298 entries, 0 to 297\n",
      "Data columns (total 21 columns):\n",
      " #   Column                 Non-Null Count  Dtype  \n",
      "---  ------                 --------------  -----  \n",
      " 0   surgery                298 non-null    object \n",
      " 1   age                    298 non-null    object \n",
      " 2   hospital_number        298 non-null    int64  \n",
      " 3   rectal_temp            298 non-null    float64\n",
      " 4   pulse                  298 non-null    int64  \n",
      " 5   respiratory_rate       298 non-null    int64  \n",
      " 6   temp_of_extremities    298 non-null    object \n",
      " 7   peripheral_pulse       298 non-null    object \n",
      " 8   mucous_membrane        298 non-null    object \n",
      " 9   capillary_refill_time  298 non-null    object \n",
      " 10  pain                   298 non-null    object \n",
      " 11  peristalsis            298 non-null    object \n",
      " 12  abdominal_distention   298 non-null    object \n",
      " 13  rectal_exam_feces      298 non-null    object \n",
      " 14  abdomen                298 non-null    object \n",
      " 15  packed_cell_volume     298 non-null    float64\n",
      " 16  total_protein          298 non-null    float64\n",
      " 17  outcome                298 non-null    object \n",
      " 18  surgical_lesion        298 non-null    object \n",
      " 19  lesion_site            298 non-null    int64  \n",
      " 20  cp_data                298 non-null    object \n",
      "dtypes: float64(3), int64(4), object(14)\n",
      "memory usage: 49.0+ KB\n"
     ]
    }
   ],
   "source": [
    "data.info()"
   ]
  },
  {
   "cell_type": "code",
   "execution_count": 11,
   "id": "76967e37",
   "metadata": {},
   "outputs": [],
   "source": [
    "data.drop('lesion_site', axis = 1, inplace = True)"
   ]
  },
  {
   "cell_type": "code",
   "execution_count": 12,
   "id": "a99e8835",
   "metadata": {},
   "outputs": [
    {
     "name": "stdout",
     "output_type": "stream",
     "text": [
      "<class 'pandas.core.frame.DataFrame'>\n",
      "RangeIndex: 298 entries, 0 to 297\n",
      "Data columns (total 20 columns):\n",
      " #   Column                 Non-Null Count  Dtype  \n",
      "---  ------                 --------------  -----  \n",
      " 0   surgery                298 non-null    object \n",
      " 1   age                    298 non-null    object \n",
      " 2   hospital_number        298 non-null    int64  \n",
      " 3   rectal_temp            298 non-null    float64\n",
      " 4   pulse                  298 non-null    int64  \n",
      " 5   respiratory_rate       298 non-null    int64  \n",
      " 6   temp_of_extremities    298 non-null    object \n",
      " 7   peripheral_pulse       298 non-null    object \n",
      " 8   mucous_membrane        298 non-null    object \n",
      " 9   capillary_refill_time  298 non-null    object \n",
      " 10  pain                   298 non-null    object \n",
      " 11  peristalsis            298 non-null    object \n",
      " 12  abdominal_distention   298 non-null    object \n",
      " 13  rectal_exam_feces      298 non-null    object \n",
      " 14  abdomen                298 non-null    object \n",
      " 15  packed_cell_volume     298 non-null    float64\n",
      " 16  total_protein          298 non-null    float64\n",
      " 17  outcome                298 non-null    object \n",
      " 18  surgical_lesion        298 non-null    object \n",
      " 19  cp_data                298 non-null    object \n",
      "dtypes: float64(3), int64(3), object(14)\n",
      "memory usage: 46.7+ KB\n"
     ]
    }
   ],
   "source": [
    "data.info()"
   ]
  },
  {
   "cell_type": "code",
   "execution_count": 13,
   "id": "3af1c0c7",
   "metadata": {},
   "outputs": [],
   "source": [
    "data['lesion'] = lesion"
   ]
  },
  {
   "cell_type": "code",
   "execution_count": 14,
   "id": "b08ef25c",
   "metadata": {},
   "outputs": [],
   "source": [
    "data['lesion_site'] = lesion_site\n",
    "data['lesion_type'] = lesion_type\n",
    "data['lesion_subtype'] = lesion_subtype\n",
    "data['lesion_code'] = lesion_code"
   ]
  },
  {
   "cell_type": "code",
   "execution_count": 15,
   "id": "f64e86dd",
   "metadata": {},
   "outputs": [
    {
     "name": "stdout",
     "output_type": "stream",
     "text": [
      "<class 'pandas.core.frame.DataFrame'>\n",
      "RangeIndex: 298 entries, 0 to 297\n",
      "Data columns (total 25 columns):\n",
      " #   Column                 Non-Null Count  Dtype  \n",
      "---  ------                 --------------  -----  \n",
      " 0   surgery                298 non-null    object \n",
      " 1   age                    298 non-null    object \n",
      " 2   hospital_number        298 non-null    int64  \n",
      " 3   rectal_temp            298 non-null    float64\n",
      " 4   pulse                  298 non-null    int64  \n",
      " 5   respiratory_rate       298 non-null    int64  \n",
      " 6   temp_of_extremities    298 non-null    object \n",
      " 7   peripheral_pulse       298 non-null    object \n",
      " 8   mucous_membrane        298 non-null    object \n",
      " 9   capillary_refill_time  298 non-null    object \n",
      " 10  pain                   298 non-null    object \n",
      " 11  peristalsis            298 non-null    object \n",
      " 12  abdominal_distention   298 non-null    object \n",
      " 13  rectal_exam_feces      298 non-null    object \n",
      " 14  abdomen                298 non-null    object \n",
      " 15  packed_cell_volume     298 non-null    float64\n",
      " 16  total_protein          298 non-null    float64\n",
      " 17  outcome                298 non-null    object \n",
      " 18  surgical_lesion        298 non-null    object \n",
      " 19  cp_data                298 non-null    object \n",
      " 20  lesion                 298 non-null    int64  \n",
      " 21  lesion_site            298 non-null    int64  \n",
      " 22  lesion_type            298 non-null    int64  \n",
      " 23  lesion_subtype         298 non-null    int64  \n",
      " 24  lesion_code            298 non-null    float64\n",
      "dtypes: float64(4), int64(7), object(14)\n",
      "memory usage: 58.3+ KB\n"
     ]
    }
   ],
   "source": [
    "data.info()"
   ]
  },
  {
   "cell_type": "code",
   "execution_count": 16,
   "id": "a03c872a",
   "metadata": {},
   "outputs": [],
   "source": [
    "data.lesion_code = data.lesion_code.astype(int)"
   ]
  },
  {
   "cell_type": "code",
   "execution_count": 17,
   "id": "18c381df",
   "metadata": {},
   "outputs": [
    {
     "name": "stdout",
     "output_type": "stream",
     "text": [
      "<class 'pandas.core.frame.DataFrame'>\n",
      "RangeIndex: 298 entries, 0 to 297\n",
      "Data columns (total 25 columns):\n",
      " #   Column                 Non-Null Count  Dtype  \n",
      "---  ------                 --------------  -----  \n",
      " 0   surgery                298 non-null    object \n",
      " 1   age                    298 non-null    object \n",
      " 2   hospital_number        298 non-null    int64  \n",
      " 3   rectal_temp            298 non-null    float64\n",
      " 4   pulse                  298 non-null    int64  \n",
      " 5   respiratory_rate       298 non-null    int64  \n",
      " 6   temp_of_extremities    298 non-null    object \n",
      " 7   peripheral_pulse       298 non-null    object \n",
      " 8   mucous_membrane        298 non-null    object \n",
      " 9   capillary_refill_time  298 non-null    object \n",
      " 10  pain                   298 non-null    object \n",
      " 11  peristalsis            298 non-null    object \n",
      " 12  abdominal_distention   298 non-null    object \n",
      " 13  rectal_exam_feces      298 non-null    object \n",
      " 14  abdomen                298 non-null    object \n",
      " 15  packed_cell_volume     298 non-null    float64\n",
      " 16  total_protein          298 non-null    float64\n",
      " 17  outcome                298 non-null    object \n",
      " 18  surgical_lesion        298 non-null    object \n",
      " 19  cp_data                298 non-null    object \n",
      " 20  lesion                 298 non-null    int64  \n",
      " 21  lesion_site            298 non-null    int64  \n",
      " 22  lesion_type            298 non-null    int64  \n",
      " 23  lesion_subtype         298 non-null    int64  \n",
      " 24  lesion_code            298 non-null    int64  \n",
      "dtypes: float64(3), int64(8), object(14)\n",
      "memory usage: 58.3+ KB\n"
     ]
    }
   ],
   "source": [
    "data.info()"
   ]
  },
  {
   "cell_type": "code",
   "execution_count": 18,
   "id": "77551fc0",
   "metadata": {},
   "outputs": [],
   "source": [
    "data.drop('hospital_number', axis = 1, inplace = True)"
   ]
  },
  {
   "cell_type": "code",
   "execution_count": 19,
   "id": "dad6e96f",
   "metadata": {},
   "outputs": [],
   "source": [
    "data.drop('cp_data', axis = 1, inplace = True)"
   ]
  },
  {
   "cell_type": "code",
   "execution_count": 20,
   "id": "2828c175",
   "metadata": {},
   "outputs": [
    {
     "name": "stdout",
     "output_type": "stream",
     "text": [
      "<class 'pandas.core.frame.DataFrame'>\n",
      "RangeIndex: 298 entries, 0 to 297\n",
      "Data columns (total 23 columns):\n",
      " #   Column                 Non-Null Count  Dtype  \n",
      "---  ------                 --------------  -----  \n",
      " 0   surgery                298 non-null    object \n",
      " 1   age                    298 non-null    object \n",
      " 2   rectal_temp            298 non-null    float64\n",
      " 3   pulse                  298 non-null    int64  \n",
      " 4   respiratory_rate       298 non-null    int64  \n",
      " 5   temp_of_extremities    298 non-null    object \n",
      " 6   peripheral_pulse       298 non-null    object \n",
      " 7   mucous_membrane        298 non-null    object \n",
      " 8   capillary_refill_time  298 non-null    object \n",
      " 9   pain                   298 non-null    object \n",
      " 10  peristalsis            298 non-null    object \n",
      " 11  abdominal_distention   298 non-null    object \n",
      " 12  rectal_exam_feces      298 non-null    object \n",
      " 13  abdomen                298 non-null    object \n",
      " 14  packed_cell_volume     298 non-null    float64\n",
      " 15  total_protein          298 non-null    float64\n",
      " 16  outcome                298 non-null    object \n",
      " 17  surgical_lesion        298 non-null    object \n",
      " 18  lesion                 298 non-null    int64  \n",
      " 19  lesion_site            298 non-null    int64  \n",
      " 20  lesion_type            298 non-null    int64  \n",
      " 21  lesion_subtype         298 non-null    int64  \n",
      " 22  lesion_code            298 non-null    int64  \n",
      "dtypes: float64(3), int64(7), object(13)\n",
      "memory usage: 53.7+ KB\n"
     ]
    }
   ],
   "source": [
    "data.info()"
   ]
  },
  {
   "cell_type": "code",
   "execution_count": 21,
   "id": "4989e0af",
   "metadata": {},
   "outputs": [],
   "source": [
    "data.to_csv('updated_horse1')"
   ]
  },
  {
   "cell_type": "code",
   "execution_count": null,
   "id": "d6df456f",
   "metadata": {},
   "outputs": [],
   "source": []
  },
  {
   "cell_type": "code",
   "execution_count": null,
   "id": "1618b5d6",
   "metadata": {},
   "outputs": [],
   "source": []
  }
 ],
 "metadata": {
  "kernelspec": {
   "display_name": "Python 3",
   "language": "python",
   "name": "python3"
  },
  "language_info": {
   "codemirror_mode": {
    "name": "ipython",
    "version": 3
   },
   "file_extension": ".py",
   "mimetype": "text/x-python",
   "name": "python",
   "nbconvert_exporter": "python",
   "pygments_lexer": "ipython3",
   "version": "3.8.2"
  }
 },
 "nbformat": 4,
 "nbformat_minor": 5
}
